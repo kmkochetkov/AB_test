{
 "cells": [
  {
   "cell_type": "markdown",
   "id": "22288f65",
   "metadata": {},
   "source": [
    "## Урок 6. Расчёт длительности А/B теста + продвинутые топики"
   ]
  },
  {
   "cell_type": "markdown",
   "id": "ba655a42",
   "metadata": {},
   "source": [
    "### Задача 1.\n",
    "Продакт на главной mail.ru решил протестировать в рекомендательной ленте контента вместо карточек со статьями видеоплеер с короткими видео. Нынешний таймспент на юзера в день в среднем равен 25 минут, а стандартная ошибка (SD) равна 156. Мы предполагаем, что в новой версии таймспент на юзера в день изменится на 10%. Средний трафик 20000 человек в день. Посчитайте сколько дней необходимо держать эксперимент при alpha = 5% и beta = 20% ."
   ]
  },
  {
   "cell_type": "code",
   "execution_count": 38,
   "id": "c8cbff83",
   "metadata": {},
   "outputs": [],
   "source": [
    "import numpy as np\n",
    "import math\n",
    "import scipy.stats as stats\n",
    "from scipy.stats import norm, t"
   ]
  },
  {
   "cell_type": "code",
   "execution_count": 39,
   "id": "95e84aa3",
   "metadata": {},
   "outputs": [],
   "source": [
    "n = 20000        # Среднее количество пользователей в группе\n",
    "sd = 156         # стандартная ошибк\n",
    "alpha = 0.05     # уровень значимости\n",
    "beta = 0.2       # вероятность ошибки второго рода\n",
    "prop_diff = 0.1  # относительное изменение таймспента"
   ]
  },
  {
   "cell_type": "code",
   "execution_count": 40,
   "id": "563b2785",
   "metadata": {},
   "outputs": [],
   "source": [
    "se = sd / np.sqrt(n) # стандартная ошибка среднего\n",
    "m = se * norm.ppf(1 - alpha/2) # Граница доверительного интервала\n",
    "delta = prop_diff * n # абсолютное изменение таймспента"
   ]
  },
  {
   "cell_type": "code",
   "execution_count": 41,
   "id": "31762240",
   "metadata": {},
   "outputs": [],
   "source": [
    "z_alpha = norm.ppf(1 - alpha)\n",
    "z_beta = norm.ppf(1 - beta)"
   ]
  },
  {
   "cell_type": "code",
   "execution_count": 42,
   "id": "f6cdb2c8",
   "metadata": {},
   "outputs": [
    {
     "name": "stdout",
     "output_type": "stream",
     "text": [
      "Эксперимент необходимо проводить в течении 1 дней\n"
     ]
    }
   ],
   "source": [
    "n1 = (z_alpha*m + z_beta*sd/delta)**2\n",
    "n2 = (z_alpha*m - z_beta*sd/delta)**2\n",
    "npot = np.ceil(max(n1,n2))\n",
    "time_exp = np.ceil(npot/n)\n",
    "print(f\"Эксперимент необходимо проводить в течении {int(time_exp)} дней\") "
   ]
  },
  {
   "cell_type": "markdown",
   "id": "5faf1982",
   "metadata": {},
   "source": [
    "### Задача 2."
   ]
  },
  {
   "cell_type": "markdown",
   "id": "b9a559d7",
   "metadata": {},
   "source": [
    "Наша продуктовая команда в ecommerce магазине планирует запустить тест, направленный на ускорение загрузки сайта. Одна из основных метрик bounce rate в GA = 40%. Мы предполагаем, что при оптимизации сайта она изменится минимум на 20%.Средний трафик 4000 человек в день. Посчитайте сколько нам нужно дней держать эксперимент при alpha = 5% и beta = 20%. "
   ]
  },
  {
   "cell_type": "code",
   "execution_count": 43,
   "id": "58521b81",
   "metadata": {},
   "outputs": [],
   "source": [
    "def sample_size(mean1, mean2, alpha1, beta1, power, baseline):\n",
    "    std1 = math.sqrt(baseline * (1 - baseline))\n",
    "    z_alpha1 = stats.norm.ppf(1 - alpha1/2)\n",
    "    z_beta1 = stats.norm.ppf(power)\n",
    "    std2 = std1 * math.sqrt((baseline - mean2)**2 / (mean1 - mean2)**2)\n",
    "    return ((std1 * z_alpha1 + std2 * z_beta1)) / (mean1 - mean2)**2"
   ]
  },
  {
   "cell_type": "code",
   "execution_count": 44,
   "id": "da47e32b",
   "metadata": {},
   "outputs": [
    {
     "data": {
      "text/plain": [
       "4"
      ]
     },
     "execution_count": 44,
     "metadata": {},
     "output_type": "execute_result"
    }
   ],
   "source": [
    "expriment_time = round(sample_size(mean1=0.4, mean2=-0.2, alpha1=0.05, beta1=0.2, power=0.8, \n",
    "                  baseline=0.4))\n",
    "expriment_time"
   ]
  },
  {
   "cell_type": "markdown",
   "id": "ded3e74d",
   "metadata": {},
   "source": [
    " Эксперимент нужно продолжать 4 дня при alpha 5%, beta 20%"
   ]
  },
  {
   "cell_type": "code",
   "execution_count": null,
   "id": "1846c721",
   "metadata": {},
   "outputs": [],
   "source": []
  }
 ],
 "metadata": {
  "kernelspec": {
   "display_name": "Python 3 (ipykernel)",
   "language": "python",
   "name": "python3"
  },
  "language_info": {
   "codemirror_mode": {
    "name": "ipython",
    "version": 3
   },
   "file_extension": ".py",
   "mimetype": "text/x-python",
   "name": "python",
   "nbconvert_exporter": "python",
   "pygments_lexer": "ipython3",
   "version": "3.11.2"
  }
 },
 "nbformat": 4,
 "nbformat_minor": 5
}
